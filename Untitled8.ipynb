{
 "cells": [
  {
   "cell_type": "code",
   "execution_count": 3,
   "id": "07832bf4",
   "metadata": {},
   "outputs": [
    {
     "name": "stdout",
     "output_type": "stream",
     "text": [
      "[(2, 1), (1, 2), (2, 3), (4, 4), (2, 5)]\n"
     ]
    }
   ],
   "source": [
    "#Ques1:Write a python programe to get a list,sorted in increasing order by the last element in each tuple from a given list of non-empty tuples\n",
    "#Ans:\n",
    "def last(n): return n[-1]\n",
    "def sort_list_last(tuples):\n",
    "    return sorted(tuples,key=last)\n",
    "print(sort_list_last([(2,5),(1,2),(4,4),(2,3),(2,1)]))"
   ]
  },
  {
   "cell_type": "code",
   "execution_count": null,
   "id": "a2a3f28a",
   "metadata": {},
   "outputs": [],
   "source": []
  }
 ],
 "metadata": {
  "kernelspec": {
   "display_name": "Python 3 (ipykernel)",
   "language": "python",
   "name": "python3"
  },
  "language_info": {
   "codemirror_mode": {
    "name": "ipython",
    "version": 3
   },
   "file_extension": ".py",
   "mimetype": "text/x-python",
   "name": "python",
   "nbconvert_exporter": "python",
   "pygments_lexer": "ipython3",
   "version": "3.9.12"
  }
 },
 "nbformat": 4,
 "nbformat_minor": 5
}
